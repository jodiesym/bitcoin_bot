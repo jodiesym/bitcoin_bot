{
 "cells": [
  {
   "cell_type": "code",
   "execution_count": 37,
   "metadata": {},
   "outputs": [],
   "source": [
    "import sched, time\n",
    "import yfinance as yf\n",
    "import cryptocompare as cp"
   ]
  },
  {
   "cell_type": "code",
   "execution_count": 7,
   "metadata": {},
   "outputs": [],
   "source": [
    "import requests as r, json\n",
    "from getpass import getpass"
   ]
  },
  {
   "cell_type": "code",
   "execution_count": 5,
   "metadata": {},
   "outputs": [],
   "source": [
    "url = 'https://bigdataforall.com/crypto/?'"
   ]
  },
  {
   "cell_type": "code",
   "execution_count": 8,
   "metadata": {},
   "outputs": [
    {
     "name": "stdout",
     "output_type": "stream",
     "text": [
      "Enter your bitcoin account key\n",
      "········\n"
     ]
    }
   ],
   "source": [
    "print('Enter your bitcoin account key')\n",
    "key = getpass()"
   ]
  },
  {
   "cell_type": "code",
   "execution_count": 63,
   "metadata": {},
   "outputs": [],
   "source": []
  },
  {
   "cell_type": "code",
   "execution_count": 92,
   "metadata": {},
   "outputs": [],
   "source": [
    "profile_url = f\"{url}key={key}&request=profile\"\n",
    "reset_url =  f\"{url}key={key}&request=reset\"\n",
    "buy_url = f\"{url}key={key}&request=buy&symbol={sym}&quantity={qty}\"\n",
    "sell_url = f\"{url}key={key}&request=sell&symbol={sym}&quantity={qty}\""
   ]
  },
  {
   "cell_type": "code",
   "execution_count": 99,
   "metadata": {},
   "outputs": [],
   "source": [
    "## reset data\n",
    "response = r.get(reset_url).json()\n",
    "## set initial params\n",
    "qty = 0.1  ## qty planning to buy \n",
    "sym = \"BTC\" \n",
    "p_qty = 0 ## purchased qty"
   ]
  },
  {
   "cell_type": "code",
   "execution_count": 100,
   "metadata": {},
   "outputs": [
    {
     "data": {
      "text/plain": [
       "{'username': 'jodie',\n",
       " 'cash': 100000,\n",
       " 'shares value': 0,\n",
       " 'penalty': 0,\n",
       " 'total': 100000,\n",
       " 'shares': []}"
      ]
     },
     "execution_count": 100,
     "metadata": {},
     "output_type": "execute_result"
    }
   ],
   "source": [
    "response"
   ]
  },
  {
   "cell_type": "code",
   "execution_count": 101,
   "metadata": {},
   "outputs": [
    {
     "name": "stdout",
     "output_type": "stream",
     "text": [
      "checking balance and bitcoin price...\n",
      "Cash = 100000 , Total = 100000, purchased bitcoin value = 0 /// Bitcion price = 54755.54\n",
      "purchased 0.3652598440267414 coins, now total own 0.3652598440267414 coins\n",
      "checking balance and bitcoin price...\n",
      "Cash = 79996.029625495 , Total = 99997.23498298, purchased bitcoin value = 20001.205357485 /// Bitcion price = 54742.45\n",
      "no action\n",
      "checking balance and bitcoin price...\n",
      "Cash = 79996.029625495 , Total = 99982.010952681, purchased bitcoin value = 19985.981327186004 /// Bitcion price = 54741.07\n",
      "no action\n",
      "checking balance and bitcoin price...\n",
      "Cash = 79996.029625495 , Total = 99986.445207188, purchased bitcoin value = 19990.415581693 /// Bitcion price = 54762.53\n",
      "sold 0.09125955092694311 coins, now total own 0.2740002930997983 coins\n",
      "checking balance and bitcoin price...\n",
      "Cash = 84990.600053445 , Total = 100004.95575439, purchased bitcoin value = 15014.355700945001 /// Bitcion price = 54766.93\n",
      "sold 0.06853750840582538 coins, now total own 0.2054627846939729 coins\n",
      "checking balance and bitcoin price...\n",
      "Cash = 88744.46655559 , Total = 99995.415510414, purchased bitcoin value = 11250.948954823994 /// Bitcion price = 54775.77\n",
      "sold 0.05135002645706302 coins, now total own 0.15411275823690987 coins\n"
     ]
    },
    {
     "ename": "KeyboardInterrupt",
     "evalue": "",
     "output_type": "error",
     "traceback": [
      "\u001b[1;31m---------------------------------------------------------------------------\u001b[0m",
      "\u001b[1;31mKeyboardInterrupt\u001b[0m                         Traceback (most recent call last)",
      "\u001b[1;32m<ipython-input-101-346c0dc0bb2e>\u001b[0m in \u001b[0;36m<module>\u001b[1;34m\u001b[0m\n\u001b[0;32m     40\u001b[0m \u001b[1;33m\u001b[0m\u001b[0m\n\u001b[0;32m     41\u001b[0m \u001b[1;33m\u001b[0m\u001b[0m\n\u001b[1;32m---> 42\u001b[1;33m     \u001b[0mtime\u001b[0m\u001b[1;33m.\u001b[0m\u001b[0msleep\u001b[0m\u001b[1;33m(\u001b[0m\u001b[1;36m25\u001b[0m\u001b[1;33m)\u001b[0m\u001b[1;33m\u001b[0m\u001b[1;33m\u001b[0m\u001b[0m\n\u001b[0m",
      "\u001b[1;31mKeyboardInterrupt\u001b[0m: "
     ]
    }
   ],
   "source": [
    "\n",
    "while True:\n",
    "    print (\"checking balance and bitcoin price...\")\n",
    "    ## get the current BTC price and current account profile\n",
    "    BTC = cp.get_price('BTC',currency='USD')['BTC']['USD']\n",
    "    response = r.get(profile_url).json()\n",
    "    cash = response['cash']\n",
    "    total = response['total']\n",
    "    b_asset = total - cash\n",
    "    \n",
    "    print(f\"Cash = {cash} , Total = {total}, purchased bitcoin value = {b_asset} /// Bitcion price = {BTC}\")\n",
    "    \n",
    "    if p_qty == 0: ## first time buy -- buy 20%\n",
    "        qty = cash/5/BTC\n",
    "        buy_url = f\"{url}key={key}&request=buy&symbol={sym}&quantity={qty}\"\n",
    "        response = r.get(buy_url).json()\n",
    "        p_qty = p_qty + qty\n",
    "        b_cost = cash/5  \n",
    "        avg_cost = b_cost / p_qty\n",
    "        print(f\"purchased {qty} coins, now total own {p_qty} coins\")\n",
    "        \n",
    "    elif avg_cost < BTC: ## if making money: sell 25% owned bitcoin\n",
    "        qty = b_asset/4/BTC\n",
    "        sell_url = f\"{url}key={key}&request=sell&symbol={sym}&quantity={qty}\"\n",
    "        response = r.get(sell_url).json()\n",
    "        p_qty = p_qty - qty\n",
    "        b_cost = b_cost- (avg_cost*qty)\n",
    "        print(f\"sold {qty} coins, now total own {p_qty} coins\")\n",
    "        \n",
    "    elif avg_cost < BTC:  ## if not making money: buy 12.5% cash value bitcoin\n",
    "        qty = cash/8/BTC\n",
    "        buy_url = f\"{url}key={key}&request=buy&symbol={sym}&quantity={qty}\"\n",
    "        response = r.get(buy_url).json()\n",
    "        p_qty = p_qty + qty\n",
    "        b_cost = b_cost + (cash/8)\n",
    "        avg_cost = b_cost / p_qty\n",
    "        print(f\"purchased {qty} coins, now total own {p_qty} coins\")\n",
    "        \n",
    "    else:\n",
    "        print(\"no action\")\n",
    "    \n",
    "    \n",
    "    time.sleep(25)"
   ]
  },
  {
   "cell_type": "code",
   "execution_count": 46,
   "metadata": {},
   "outputs": [],
   "source": [
    "# test -- \n",
    "BTC = cp.get_price('BTC',currency='USD')['BTC']['USD']"
   ]
  },
  {
   "cell_type": "code",
   "execution_count": 47,
   "metadata": {},
   "outputs": [
    {
     "data": {
      "text/plain": [
       "54691.59"
      ]
     },
     "execution_count": 47,
     "metadata": {},
     "output_type": "execute_result"
    }
   ],
   "source": [
    "BTC"
   ]
  },
  {
   "cell_type": "code",
   "execution_count": null,
   "metadata": {},
   "outputs": [],
   "source": []
  },
  {
   "cell_type": "code",
   "execution_count": null,
   "metadata": {},
   "outputs": [],
   "source": []
  }
 ],
 "metadata": {
  "kernelspec": {
   "display_name": "Python 3",
   "language": "python",
   "name": "python3"
  },
  "varInspector": {
   "cols": {
    "lenName": 16,
    "lenType": 16,
    "lenVar": 40
   },
   "kernels_config": {
    "python": {
     "delete_cmd_postfix": "",
     "delete_cmd_prefix": "del ",
     "library": "var_list.py",
     "varRefreshCmd": "print(var_dic_list())"
    },
    "r": {
     "delete_cmd_postfix": ") ",
     "delete_cmd_prefix": "rm(",
     "library": "var_list.r",
     "varRefreshCmd": "cat(var_dic_list()) "
    }
   },
   "types_to_exclude": [
    "module",
    "function",
    "builtin_function_or_method",
    "instance",
    "_Feature"
   ],
   "window_display": false
  }
 },
 "nbformat": 4,
 "nbformat_minor": 4
}
