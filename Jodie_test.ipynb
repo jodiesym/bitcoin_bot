{
 "cells": [
  {
   "cell_type": "code",
   "execution_count": 37,
   "metadata": {},
   "outputs": [],
   "source": [
    "import sched, time\n",
    "import yfinance as yf\n",
    "import cryptocompare as cp"
   ]
  },
  {
   "cell_type": "code",
   "execution_count": 7,
   "metadata": {},
   "outputs": [],
   "source": [
    "import requests as r, json\n",
    "from getpass import getpass"
   ]
  },
  {
   "cell_type": "code",
   "execution_count": 5,
   "metadata": {},
   "outputs": [],
   "source": [
    "url = 'https://bigdataforall.com/crypto/?'"
   ]
  },
  {
   "cell_type": "code",
   "execution_count": 8,
   "metadata": {},
   "outputs": [
    {
     "name": "stdout",
     "output_type": "stream",
     "text": [
      "Enter your bitcoin account key\n",
      "········\n"
     ]
    }
   ],
   "source": [
    "print('Enter your bitcoin account key')\n",
    "key = getpass()"
   ]
  },
  {
   "cell_type": "code",
   "execution_count": 63,
   "metadata": {},
   "outputs": [],
   "source": []
  },
  {
   "cell_type": "code",
   "execution_count": 92,
   "metadata": {},
   "outputs": [],
   "source": [
    "profile_url = f\"{url}key={key}&request=profile\"\n",
    "reset_url =  f\"{url}key={key}&request=reset\"\n",
    "buy_url = f\"{url}key={key}&request=buy&symbol={sym}&quantity={qty}\"\n",
    "sell_url = f\"{url}key={key}&request=sell&symbol={sym}&quantity={qty}\""
   ]
  },
  {
   "cell_type": "code",
   "execution_count": 139,
   "metadata": {},
   "outputs": [],
   "source": [
    "## reset data\n",
    "response = r.get(reset_url).json()\n",
    "## set initial params\n",
    "qty = 0.1  ## qty planning to buy \n",
    "sym = \"BTC\" \n",
    "p_qty = 0 ## purchased qty"
   ]
  },
  {
   "cell_type": "code",
   "execution_count": 140,
   "metadata": {},
   "outputs": [
    {
     "data": {
      "text/plain": [
       "{'username': 'jodie',\n",
       " 'cash': 100000,\n",
       " 'shares value': 0,\n",
       " 'penalty': 0,\n",
       " 'total': 100000,\n",
       " 'shares': []}"
      ]
     },
     "execution_count": 140,
     "metadata": {},
     "output_type": "execute_result"
    }
   ],
   "source": [
    "response"
   ]
  },
  {
   "cell_type": "code",
   "execution_count": 138,
   "metadata": {},
   "outputs": [
    {
     "name": "stdout",
     "output_type": "stream",
     "text": [
      "checking balance and bitcoin price...\n",
      "Cash = 100000 , Total = 100000, purchased bitcoin value = 0 /// Bitcion price = 54856.07\n",
      "purchased 0.8203285434045858 coins, now total own 0.8203285434045858 coins\n",
      "checking balance and bitcoin price...\n",
      "Cash = 55013.067833696 , Total = 100028.08804933, purchased bitcoin value = 45015.02021563401 /// Bitcion price = 54867.4\n",
      "sold 0.24612987064614328 coins, now total own 0.5741986727584425 coins\n",
      "checking balance and bitcoin price...\n",
      "Cash = 68518.171993972 , Total = 99992.539205996, purchased bitcoin value = 31474.367212023993 /// Bitcion price = 54884.05\n",
      "sold 0.1720410604466543 coins, now total own 0.4021576123117882 coins\n",
      "purchased 0.1872625252527064 coins, now total own 0.5894201375644946 coins\n",
      "checking balance and bitcoin price...\n",
      "Cash = 67683.760490384 , Total = 99999.951420446, purchased bitcoin value = 32316.190930062003 /// Bitcion price = 54857.26\n",
      "purchased 0.24676318317897758 coins, now total own 0.8361833207434722 coins\n"
     ]
    },
    {
     "ename": "KeyboardInterrupt",
     "evalue": "",
     "output_type": "error",
     "traceback": [
      "\u001b[1;31m---------------------------------------------------------------------------\u001b[0m",
      "\u001b[1;31mKeyboardInterrupt\u001b[0m                         Traceback (most recent call last)",
      "\u001b[1;32m<ipython-input-138-bdd96c3424c8>\u001b[0m in \u001b[0;36m<module>\u001b[1;34m\u001b[0m\n\u001b[0;32m     72\u001b[0m \u001b[1;33m\u001b[0m\u001b[0m\n\u001b[0;32m     73\u001b[0m \u001b[1;33m\u001b[0m\u001b[0m\n\u001b[1;32m---> 74\u001b[1;33m     \u001b[0mtime\u001b[0m\u001b[1;33m.\u001b[0m\u001b[0msleep\u001b[0m\u001b[1;33m(\u001b[0m\u001b[1;36m30\u001b[0m\u001b[1;33m)\u001b[0m\u001b[1;33m\u001b[0m\u001b[1;33m\u001b[0m\u001b[0m\n\u001b[0m",
      "\u001b[1;31mKeyboardInterrupt\u001b[0m: "
     ]
    }
   ],
   "source": [
    "\n",
    "while True:\n",
    "    print (\"checking balance and bitcoin price...\")\n",
    "    ## get the current BTC price and current account profile\n",
    "    BTC = cp.get_price('BTC',currency='USD')['BTC']['USD']\n",
    "    response = r.get(profile_url).json()\n",
    "    cash = response['cash']\n",
    "    total = response['total']\n",
    "    b_asset = total - cash\n",
    "    \n",
    "    print(f\"Cash = {cash} , Total = {total}, purchased bitcoin value = {b_asset} /// Bitcion price = {BTC}\")\n",
    "    \n",
    "    if p_qty == 0: ## first time buy -- buy 45%\n",
    "        qty = cash*0.45/BTC\n",
    "        buy_url = f\"{url}key={key}&request=buy&symbol={sym}&quantity={qty}\"\n",
    "        response = r.get(buy_url).json()\n",
    "        p_qty = p_qty + qty\n",
    "        b_cost = cash*0.45\n",
    "        avg_cost = b_cost / p_qty\n",
    "        print(f\"purchased {qty} coins, now total own {p_qty} coins\")\n",
    "        \n",
    "    elif avg_cost < BTC: ## if making money: sell 30% owned bitcoin\n",
    "        if (b_asset/total) > 0.35:\n",
    "            qty = b_asset*0.30/BTC\n",
    "            sell_url = f\"{url}key={key}&request=sell&symbol={sym}&quantity={qty}\"\n",
    "            response = r.get(sell_url).json()\n",
    "            p_qty = p_qty - qty\n",
    "            b_cost = b_cost- (avg_cost*qty)\n",
    "            print(f\"sold {qty} coins, now total own {p_qty} coins\")\n",
    "        else:  ## if owned bitcoin is less than 35% of the total value, then sell 30% but buy 16% back (to increase MA)\n",
    "            qty = b_asset*0.3/BTC\n",
    "            sell_url = f\"{url}key={key}&request=sell&symbol={sym}&quantity={qty}\"\n",
    "            response = r.get(sell_url).json()\n",
    "            p_qty = p_qty - qty\n",
    "            b_cost = b_cost- (avg_cost*qty)\n",
    "            print(f\"sold {qty} coins, now total own {p_qty} coins\")\n",
    "            ## 15% purchase for adjust MA:\n",
    "            qty = cash*0.16/BTC\n",
    "            buy_url = f\"{url}key={key}&request=buy&symbol={sym}&quantity={qty}\"\n",
    "            response = r.get(buy_url).json()\n",
    "            p_qty = p_qty + qty\n",
    "            b_cost = b_cost + (cash*0.16)\n",
    "            avg_cost = b_cost / p_qty\n",
    "            print(f\"purchased {qty} coins, now total own {p_qty} coins\")\n",
    "        \n",
    "    elif avg_cost > BTC:  ## if not making money: buy 20% cash value bitcoin\n",
    "        ## but we have to sell 25% bitcions when owned bitcoins is over 78% -- to make sure we always have money to buy: \n",
    "        if (b_asset/total) < 0.78:\n",
    "            qty = cash*0.20/BTC\n",
    "            buy_url = f\"{url}key={key}&request=buy&symbol={sym}&quantity={qty}\"\n",
    "            response = r.get(buy_url).json()\n",
    "            p_qty = p_qty + qty\n",
    "            b_cost = b_cost + (cash*0.20)\n",
    "            avg_cost = b_cost / p_qty\n",
    "            print(f\"purchased {qty} coins, now total own {p_qty} coins\")\n",
    "        else: \n",
    "            qty = cash*0.20/BTC\n",
    "            buy_url = f\"{url}key={key}&request=buy&symbol={sym}&quantity={qty}\"\n",
    "            response = r.get(buy_url).json()\n",
    "            p_qty = p_qty + qty\n",
    "            b_cost = b_cost + (cash*0.20)\n",
    "            avg_cost = b_cost / p_qty\n",
    "            print(f\"purchased {qty} coins, now total own {p_qty} coins\")\n",
    "            qty = b_asset*0.25/BTC\n",
    "            sell_url = f\"{url}key={key}&request=sell&symbol={sym}&quantity={qty}\"\n",
    "            response = r.get(sell_url).json()\n",
    "            p_qty = p_qty - qty\n",
    "            b_cost = b_cost- (avg_cost*qty)\n",
    "            print(f\"sold {qty} coins, now total own {p_qty} coins\")\n",
    "        \n",
    "    else:\n",
    "        print(\"no action\")\n",
    "    \n",
    "    \n",
    "    time.sleep(32)"
   ]
  },
  {
   "cell_type": "code",
   "execution_count": 46,
   "metadata": {},
   "outputs": [],
   "source": [
    "# test -- \n",
    "BTC = cp.get_price('BTC',currency='USD')['BTC']['USD']"
   ]
  },
  {
   "cell_type": "code",
   "execution_count": 47,
   "metadata": {},
   "outputs": [
    {
     "data": {
      "text/plain": [
       "54691.59"
      ]
     },
     "execution_count": 47,
     "metadata": {},
     "output_type": "execute_result"
    }
   ],
   "source": [
    "BTC"
   ]
  },
  {
   "cell_type": "code",
   "execution_count": null,
   "metadata": {},
   "outputs": [],
   "source": []
  }
 ],
 "metadata": {
  "kernelspec": {
   "display_name": "Python 3",
   "language": "python",
   "name": "python3"
  },
  "language_info": {
   "codemirror_mode": {
    "name": "ipython",
    "version": 3
   },
   "file_extension": ".py",
   "mimetype": "text/x-python",
   "name": "python",
   "nbconvert_exporter": "python",
   "pygments_lexer": "ipython3",
   "version": "3.8.3"
  },
  "varInspector": {
   "cols": {
    "lenName": 16,
    "lenType": 16,
    "lenVar": 40
   },
   "kernels_config": {
    "python": {
     "delete_cmd_postfix": "",
     "delete_cmd_prefix": "del ",
     "library": "var_list.py",
     "varRefreshCmd": "print(var_dic_list())"
    },
    "r": {
     "delete_cmd_postfix": ") ",
     "delete_cmd_prefix": "rm(",
     "library": "var_list.r",
     "varRefreshCmd": "cat(var_dic_list()) "
    }
   },
   "types_to_exclude": [
    "module",
    "function",
    "builtin_function_or_method",
    "instance",
    "_Feature"
   ],
   "window_display": false
  }
 },
 "nbformat": 4,
 "nbformat_minor": 4
}
