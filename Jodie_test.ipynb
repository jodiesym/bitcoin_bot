{
 "cells": [
  {
   "cell_type": "code",
   "execution_count": 37,
   "metadata": {},
   "outputs": [],
   "source": [
    "import sched, time\n",
    "import yfinance as yf\n",
    "import cryptocompare as cp"
   ]
  },
  {
   "cell_type": "code",
   "execution_count": 7,
   "metadata": {},
   "outputs": [],
   "source": [
    "import requests as r, json\n",
    "from getpass import getpass"
   ]
  },
  {
   "cell_type": "code",
   "execution_count": 5,
   "metadata": {},
   "outputs": [],
   "source": [
    "url = 'https://bigdataforall.com/crypto/?'"
   ]
  },
  {
   "cell_type": "code",
   "execution_count": 8,
   "metadata": {},
   "outputs": [
    {
     "name": "stdout",
     "output_type": "stream",
     "text": [
      "Enter your bitcoin account key\n",
      "········\n"
     ]
    }
   ],
   "source": [
    "print('Enter your bitcoin account key')\n",
    "key = getpass()"
   ]
  },
  {
   "cell_type": "code",
   "execution_count": 63,
   "metadata": {},
   "outputs": [],
   "source": []
  },
  {
   "cell_type": "code",
   "execution_count": 92,
   "metadata": {},
   "outputs": [],
   "source": [
    "profile_url = f\"{url}key={key}&request=profile\"\n",
    "reset_url =  f\"{url}key={key}&request=reset\"\n",
    "buy_url = f\"{url}key={key}&request=buy&symbol={sym}&quantity={qty}\"\n",
    "sell_url = f\"{url}key={key}&request=sell&symbol={sym}&quantity={qty}\""
   ]
  },
  {
   "cell_type": "code",
   "execution_count": 102,
   "metadata": {},
   "outputs": [],
   "source": [
    "## reset data\n",
    "response = r.get(reset_url).json()\n",
    "## set initial params\n",
    "qty = 0.1  ## qty planning to buy \n",
    "sym = \"BTC\" \n",
    "p_qty = 0 ## purchased qty"
   ]
  },
  {
   "cell_type": "code",
   "execution_count": 103,
   "metadata": {},
   "outputs": [
    {
     "data": {
      "text/plain": [
       "{'username': 'jodie',\n",
       " 'cash': 100000,\n",
       " 'shares value': 0,\n",
       " 'penalty': 0,\n",
       " 'total': 100000,\n",
       " 'shares': []}"
      ]
     },
     "execution_count": 103,
     "metadata": {},
     "output_type": "execute_result"
    }
   ],
   "source": [
    "response"
   ]
  },
  {
   "cell_type": "code",
   "execution_count": 104,
   "metadata": {},
   "outputs": [
    {
     "name": "stdout",
     "output_type": "stream",
     "text": [
      "checking balance and bitcoin price...\n",
      "Cash = 100000 , Total = 100000, purchased bitcoin value = 0 /// Bitcion price = 55076.34\n",
      "purchased 0.3631323359540594 coins, now total own 0.3631323359540594 coins\n",
      "checking balance and bitcoin price...\n",
      "Cash = 80004.909549182 , Total = 100000.67179482, purchased bitcoin value = 19995.76224563799 /// Bitcion price = 55091.81\n",
      "sold 0.09073836131739904 coins, now total own 0.2723939746366604 coins\n",
      "checking balance and bitcoin price...\n",
      "Cash = 85001.508153486 , Total = 100010.41615597, purchased bitcoin value = 15008.908002484008 /// Bitcion price = 55088.78\n",
      "sold 0.06811236336366501 coins, now total own 0.20428161127299538 coins\n",
      "checking balance and bitcoin price...\n",
      "Cash = 88752.638545057 , Total = 100025.85389304, purchased bitcoin value = 11273.215347983001 /// Bitcion price = 55099.71\n",
      "sold 0.05114915916972613 coins, now total own 0.15313245210326926 coins\n",
      "checking balance and bitcoin price...\n",
      "Cash = 91576.170849103 , Total = 100039.44847154, purchased bitcoin value = 8463.277622437003 /// Bitcion price = 55241.34\n",
      "sold 0.03830137729478052 coins, now total own 0.11483107480848874 coins\n",
      "checking balance and bitcoin price...\n",
      "Cash = 93694.55836206 , Total = 100045.87774114, purchased bitcoin value = 6351.31937908 /// Bitcion price = 55319.29\n",
      "sold 0.028703004770487834 coins, now total own 0.08612807003800091 coins\n",
      "checking balance and bitcoin price...\n",
      "Cash = 95283.065884773 , Total = 100048.16251056, purchased bitcoin value = 4765.096625787002 /// Bitcion price = 55355.04\n",
      "sold 0.02152060871867766 coins, now total own 0.06460746131932325 coins\n"
     ]
    },
    {
     "ename": "KeyboardInterrupt",
     "evalue": "",
     "output_type": "error",
     "traceback": [
      "\u001b[1;31m---------------------------------------------------------------------------\u001b[0m",
      "\u001b[1;31mKeyboardInterrupt\u001b[0m                         Traceback (most recent call last)",
      "\u001b[1;32m<ipython-input-104-271b0235ed24>\u001b[0m in \u001b[0;36m<module>\u001b[1;34m\u001b[0m\n\u001b[0;32m     40\u001b[0m \u001b[1;33m\u001b[0m\u001b[0m\n\u001b[0;32m     41\u001b[0m \u001b[1;33m\u001b[0m\u001b[0m\n\u001b[1;32m---> 42\u001b[1;33m     \u001b[0mtime\u001b[0m\u001b[1;33m.\u001b[0m\u001b[0msleep\u001b[0m\u001b[1;33m(\u001b[0m\u001b[1;36m28\u001b[0m\u001b[1;33m)\u001b[0m\u001b[1;33m\u001b[0m\u001b[1;33m\u001b[0m\u001b[0m\n\u001b[0m",
      "\u001b[1;31mKeyboardInterrupt\u001b[0m: "
     ]
    }
   ],
   "source": [
    "\n",
    "while True:\n",
    "    print (\"checking balance and bitcoin price...\")\n",
    "    ## get the current BTC price and current account profile\n",
    "    BTC = cp.get_price('BTC',currency='USD')['BTC']['USD']\n",
    "    response = r.get(profile_url).json()\n",
    "    cash = response['cash']\n",
    "    total = response['total']\n",
    "    b_asset = total - cash\n",
    "    \n",
    "    print(f\"Cash = {cash} , Total = {total}, purchased bitcoin value = {b_asset} /// Bitcion price = {BTC}\")\n",
    "    \n",
    "    if p_qty == 0: ## first time buy -- buy 20%\n",
    "        qty = cash/5/BTC\n",
    "        buy_url = f\"{url}key={key}&request=buy&symbol={sym}&quantity={qty}\"\n",
    "        response = r.get(buy_url).json()\n",
    "        p_qty = p_qty + qty\n",
    "        b_cost = cash/5  \n",
    "        avg_cost = b_cost / p_qty\n",
    "        print(f\"purchased {qty} coins, now total own {p_qty} coins\")\n",
    "        \n",
    "    elif avg_cost < BTC: ## if making money: sell 25% owned bitcoin\n",
    "        qty = b_asset/4/BTC\n",
    "        sell_url = f\"{url}key={key}&request=sell&symbol={sym}&quantity={qty}\"\n",
    "        response = r.get(sell_url).json()\n",
    "        p_qty = p_qty - qty\n",
    "        b_cost = b_cost- (avg_cost*qty)\n",
    "        print(f\"sold {qty} coins, now total own {p_qty} coins\")\n",
    "        \n",
    "    elif avg_cost > BTC:  ## if not making money: buy 12.5% cash value bitcoin\n",
    "        qty = cash/8/BTC\n",
    "        buy_url = f\"{url}key={key}&request=buy&symbol={sym}&quantity={qty}\"\n",
    "        response = r.get(buy_url).json()\n",
    "        p_qty = p_qty + qty\n",
    "        b_cost = b_cost + (cash/8)\n",
    "        avg_cost = b_cost / p_qty\n",
    "        print(f\"purchased {qty} coins, now total own {p_qty} coins\")\n",
    "        \n",
    "    else:\n",
    "        print(\"no action\")\n",
    "    \n",
    "    \n",
    "    time.sleep(28)"
   ]
  },
  {
   "cell_type": "code",
   "execution_count": 46,
   "metadata": {},
   "outputs": [],
   "source": [
    "# test -- \n",
    "BTC = cp.get_price('BTC',currency='USD')['BTC']['USD']"
   ]
  },
  {
   "cell_type": "code",
   "execution_count": 47,
   "metadata": {},
   "outputs": [
    {
     "data": {
      "text/plain": [
       "54691.59"
      ]
     },
     "execution_count": 47,
     "metadata": {},
     "output_type": "execute_result"
    }
   ],
   "source": [
    "BTC"
   ]
  },
  {
   "cell_type": "code",
   "execution_count": null,
   "metadata": {},
   "outputs": [],
   "source": []
  },
  {
   "cell_type": "code",
   "execution_count": null,
   "metadata": {},
   "outputs": [],
   "source": []
  }
 ],
 "metadata": {
  "kernelspec": {
   "display_name": "Python 3",
   "language": "python",
   "name": "python3"
  },
  "language_info": {
   "codemirror_mode": {
    "name": "ipython",
    "version": 3
   },
   "file_extension": ".py",
   "mimetype": "text/x-python",
   "name": "python",
   "nbconvert_exporter": "python",
   "pygments_lexer": "ipython3",
   "version": "3.8.3"
  },
  "varInspector": {
   "cols": {
    "lenName": 16,
    "lenType": 16,
    "lenVar": 40
   },
   "kernels_config": {
    "python": {
     "delete_cmd_postfix": "",
     "delete_cmd_prefix": "del ",
     "library": "var_list.py",
     "varRefreshCmd": "print(var_dic_list())"
    },
    "r": {
     "delete_cmd_postfix": ") ",
     "delete_cmd_prefix": "rm(",
     "library": "var_list.r",
     "varRefreshCmd": "cat(var_dic_list()) "
    }
   },
   "types_to_exclude": [
    "module",
    "function",
    "builtin_function_or_method",
    "instance",
    "_Feature"
   ],
   "window_display": false
  }
 },
 "nbformat": 4,
 "nbformat_minor": 4
}
