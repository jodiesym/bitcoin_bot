{
 "cells": [
  {
   "cell_type": "code",
   "execution_count": 37,
   "metadata": {},
   "outputs": [],
   "source": [
    "import sched, time\n",
    "import yfinance as yf\n",
    "import cryptocompare as cp"
   ]
  },
  {
   "cell_type": "code",
   "execution_count": 7,
   "metadata": {},
   "outputs": [],
   "source": [
    "import requests as r, json\n",
    "from getpass import getpass"
   ]
  },
  {
   "cell_type": "code",
   "execution_count": 5,
   "metadata": {},
   "outputs": [],
   "source": [
    "url = 'https://bigdataforall.com/crypto/?'"
   ]
  },
  {
   "cell_type": "code",
   "execution_count": 8,
   "metadata": {},
   "outputs": [
    {
     "name": "stdout",
     "output_type": "stream",
     "text": [
      "Enter your bitcoin account key\n",
      "········\n"
     ]
    }
   ],
   "source": [
    "print('Enter your bitcoin account key')\n",
    "key = getpass()"
   ]
  },
  {
   "cell_type": "code",
   "execution_count": 63,
   "metadata": {},
   "outputs": [],
   "source": []
  },
  {
   "cell_type": "code",
   "execution_count": 73,
   "metadata": {},
   "outputs": [],
   "source": [
    "profile_url = f\"{url}key={key}&request=profile\"\n",
    "reset_url =  f\"{url}key={key}&request=reset\"\n",
    "buy_url = f\"{url}key={key}&request=buy&symbol={sym}&quantity={qty}\"\n",
    "sell_url = f\"{url}key={key}&request=sell&symbol={sym}&quantity={qty}\""
   ]
  },
  {
   "cell_type": "code",
   "execution_count": 70,
   "metadata": {},
   "outputs": [],
   "source": [
    "## reset data\n",
    "response = r.get(reset_url).json()\n",
    "## set initial params\n",
    "qty = 0.1  ## qty planning to buy \n",
    "sym = \"BTC\" \n",
    "p_qty = 0 ## purchased qty"
   ]
  },
  {
   "cell_type": "code",
   "execution_count": 71,
   "metadata": {},
   "outputs": [
    {
     "data": {
      "text/plain": [
       "{'username': 'jodie',\n",
       " 'cash': 100000,\n",
       " 'shares value': 0,\n",
       " 'penalty': 0,\n",
       " 'total': 100000,\n",
       " 'shares': []}"
      ]
     },
     "execution_count": 71,
     "metadata": {},
     "output_type": "execute_result"
    }
   ],
   "source": [
    "response"
   ]
  },
  {
   "cell_type": "code",
   "execution_count": 72,
   "metadata": {},
   "outputs": [
    {
     "name": "stdout",
     "output_type": "stream",
     "text": [
      "checking balance and bitcoin price...\n",
      "Cash = 100000 , Total = 100000, purchased bitcoin value = 0 /// Bitcion price = 54928.47\n",
      "purchased 0.36410990511842034 coins, now total own 0.36410990511842034 coins\n",
      "checking balance and bitcoin price...\n",
      "Cash = 94510.155 , Total = 100003.971, purchased bitcoin value = 5493.816000000006 /// Bitcion price = 54931.45\n",
      "sold 0.02500305380615297 coins, now total own 0.33910685131226737 coins\n",
      "checking balance and bitcoin price...\n",
      "Cash = 99999.999 , Total = 99999.999, purchased bitcoin value = 0.0 /// Bitcion price = 54931.59\n",
      "sold 0.0 coins, now total own 0.33910685131226737 coins\n",
      "checking balance and bitcoin price...\n",
      "Cash = 98999.999 , Total = 98999.999, purchased bitcoin value = 0.0 /// Bitcion price = 54953.98\n",
      "sold 0.0 coins, now total own 0.33910685131226737 coins\n"
     ]
    },
    {
     "ename": "KeyboardInterrupt",
     "evalue": "",
     "output_type": "error",
     "traceback": [
      "\u001b[1;31m---------------------------------------------------------------------------\u001b[0m",
      "\u001b[1;31mKeyboardInterrupt\u001b[0m                         Traceback (most recent call last)",
      "\u001b[1;32m<ipython-input-72-777dd3447491>\u001b[0m in \u001b[0;36m<module>\u001b[1;34m\u001b[0m\n\u001b[0;32m     37\u001b[0m \u001b[1;33m\u001b[0m\u001b[0m\n\u001b[0;32m     38\u001b[0m \u001b[1;33m\u001b[0m\u001b[0m\n\u001b[1;32m---> 39\u001b[1;33m     \u001b[0mtime\u001b[0m\u001b[1;33m.\u001b[0m\u001b[0msleep\u001b[0m\u001b[1;33m(\u001b[0m\u001b[1;36m25\u001b[0m\u001b[1;33m)\u001b[0m\u001b[1;33m\u001b[0m\u001b[1;33m\u001b[0m\u001b[0m\n\u001b[0m",
      "\u001b[1;31mKeyboardInterrupt\u001b[0m: "
     ]
    }
   ],
   "source": [
    "\n",
    "while True:\n",
    "    print (\"checking balance and bitcoin price...\")\n",
    "    ## get the current BTC price and current account profile\n",
    "    BTC = cp.get_price('BTC',currency='USD')['BTC']['USD']\n",
    "    response = r.get(profile_url).json()\n",
    "    cash = response['cash']\n",
    "    total = response['total']\n",
    "    b_asset = total - cash\n",
    "    \n",
    "    print(f\"Cash = {cash} , Total = {total}, purchased bitcoin value = {b_asset} /// Bitcion price = {BTC}\")\n",
    "    \n",
    "    if p_qty == 0: ## first time buy -- buy 20%\n",
    "        qty = cash/5/BTC\n",
    "        response = r.get(buy_url).json()\n",
    "        p_qty = qty\n",
    "        b_asset = cash/5\n",
    "        print(f\"purchased {qty} coins, now total own {p_qty} coins\")\n",
    "        \n",
    "    elif avg_cost < BTC: ## if making money: sell 25% owned bitcoin\n",
    "        qty = b_asset/4/BTC\n",
    "        response = r.get(sell_url).json()\n",
    "        p_qty = p_qty - qty\n",
    "        print(f\"sold {qty} coins, now total own {p_qty} coins\")\n",
    "        \n",
    "    elif avg_cost < BTC:  ## if not making money: buy 12.5% cash value bitcoin\n",
    "        qty = cash/8/BTC\n",
    "        response = r.get(buy_url).json()\n",
    "        p_qty = p_qty + qty\n",
    "        b_asset = b_asset + (cash/8)\n",
    "        print(f\"purchased {qty} coins, now total own {p_qty} coins\")\n",
    "        \n",
    "    else:\n",
    "        print(\"no action\")\n",
    "        \n",
    "    avg_cost = b_asset / p_qty\n",
    "        \n",
    "    \n",
    "    \n",
    "    time.sleep(25)"
   ]
  },
  {
   "cell_type": "code",
   "execution_count": 46,
   "metadata": {},
   "outputs": [],
   "source": [
    "# test -- \n",
    "BTC = cp.get_price('BTC',currency='USD')['BTC']['USD']"
   ]
  },
  {
   "cell_type": "code",
   "execution_count": 47,
   "metadata": {},
   "outputs": [
    {
     "data": {
      "text/plain": [
       "54691.59"
      ]
     },
     "execution_count": 47,
     "metadata": {},
     "output_type": "execute_result"
    }
   ],
   "source": [
    "BTC"
   ]
  },
  {
   "cell_type": "code",
   "execution_count": null,
   "metadata": {},
   "outputs": [],
   "source": []
  },
  {
   "cell_type": "code",
   "execution_count": null,
   "metadata": {},
   "outputs": [],
   "source": []
  }
 ],
 "metadata": {
  "kernelspec": {
   "display_name": "Python 3",
   "language": "python",
   "name": "python3"
  },
  "varInspector": {
   "cols": {
    "lenName": 16,
    "lenType": 16,
    "lenVar": 40
   },
   "kernels_config": {
    "python": {
     "delete_cmd_postfix": "",
     "delete_cmd_prefix": "del ",
     "library": "var_list.py",
     "varRefreshCmd": "print(var_dic_list())"
    },
    "r": {
     "delete_cmd_postfix": ") ",
     "delete_cmd_prefix": "rm(",
     "library": "var_list.r",
     "varRefreshCmd": "cat(var_dic_list()) "
    }
   },
   "types_to_exclude": [
    "module",
    "function",
    "builtin_function_or_method",
    "instance",
    "_Feature"
   ],
   "window_display": false
  }
 },
 "nbformat": 4,
 "nbformat_minor": 4
}
